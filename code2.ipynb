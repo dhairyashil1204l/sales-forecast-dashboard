{
 "cells": [
  {
   "cell_type": "code",
   "execution_count": 1,
   "id": "1c683843",
   "metadata": {},
   "outputs": [
    {
     "name": "stdout",
     "output_type": "stream",
     "text": [
      "✅ Forecast data with categories saved to 'sales_forecast_with_categories.csv'\n"
     ]
    }
   ],
   "source": [
    "import pandas as pd\n",
    "from statsmodels.tsa.holtwinters import ExponentialSmoothing\n",
    "from sklearn.metrics import mean_squared_error\n",
    "\n",
    "# Load your dataset\n",
    "df = pd.read_csv(\"train.csv\", parse_dates=[\"date\"])\n",
    "df.sort_values(\"date\", inplace=True)\n",
    "\n",
    "# Prepare a list to collect results\n",
    "all_forecasts = []\n",
    "\n",
    "# Limit to fewer items/stores for faster testing (optional)\n",
    "stores = df['store'].unique()[:2]    # change [:2] to all if needed\n",
    "items = df['item'].unique()[:2]\n",
    "\n",
    "# Loop over each store-item pair\n",
    "for store_id in stores:\n",
    "    for item_id in items:\n",
    "        subset = df[(df['store'] == store_id) & (df['item'] == item_id)].copy()\n",
    "        subset.set_index('date', inplace=True)\n",
    "        subset = subset.asfreq('D').fillna(method='ffill')  # ensure daily frequency\n",
    "\n",
    "        # Train-test split\n",
    "        split_date = '2017-01-01'\n",
    "        train = subset.loc[:split_date]\n",
    "        test = subset.loc[split_date:]\n",
    "\n",
    "        try:\n",
    "            model = ExponentialSmoothing(\n",
    "                train['sales'],\n",
    "                trend='add',\n",
    "                seasonal='add',\n",
    "                seasonal_periods=365\n",
    "            ).fit()\n",
    "\n",
    "            forecast = model.forecast(len(test))\n",
    "\n",
    "            result_df = pd.DataFrame({\n",
    "                'date': test.index,\n",
    "                'store': store_id,\n",
    "                'item': item_id,\n",
    "                'actual_sales': test['sales'].values,\n",
    "                'predicted_sales': forecast.values\n",
    "            })\n",
    "\n",
    "            all_forecasts.append(result_df)\n",
    "\n",
    "        except Exception as e:\n",
    "            print(f\"Skipping Store {store_id}, Item {item_id} due to error: {e}\")\n",
    "\n",
    "# Combine all forecast results\n",
    "final_df = pd.concat(all_forecasts)\n",
    "\n",
    "# Save to CSV\n",
    "final_df.to_csv(\"sales_forecast_with_categories.csv\", index=False)\n",
    "\n",
    "print(\"✅ Forecast data with categories saved to 'sales_forecast_with_categories.csv'\")\n"
   ]
  },
  {
   "cell_type": "code",
   "execution_count": 2,
   "id": "6403e483",
   "metadata": {},
   "outputs": [
    {
     "name": "stdout",
     "output_type": "stream",
     "text": [
      "Looking in: C:\\Users\\dhair\\Untitled Folder\n",
      "Full file path: C:\\Users\\dhair\\Untitled Folder\\sales_forecast_with_categories.csv\n"
     ]
    }
   ],
   "source": [
    "# Save the forecast to a CSV file again\n",
    "final_df.to_csv(\"sales_forecast_with_categories.csv\", index=False)\n",
    "\n",
    "# Check the full path\n",
    "import os\n",
    "print(\"Looking in:\", os.getcwd())  # This shows your current working directory\n",
    "\n",
    "# Confirm absolute file path\n",
    "print(\"Full file path:\", os.path.abspath(\"sales_forecast_with_categories.csv\"))\n"
   ]
  }
 ],
 "metadata": {
  "kernelspec": {
   "display_name": "Python 3 (ipykernel)",
   "language": "python",
   "name": "python3"
  },
  "language_info": {
   "codemirror_mode": {
    "name": "ipython",
    "version": 3
   },
   "file_extension": ".py",
   "mimetype": "text/x-python",
   "name": "python",
   "nbconvert_exporter": "python",
   "pygments_lexer": "ipython3",
   "version": "3.11.5"
  }
 },
 "nbformat": 4,
 "nbformat_minor": 5
}
